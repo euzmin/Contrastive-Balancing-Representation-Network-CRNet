{
 "cells": [
  {
   "cell_type": "code",
   "execution_count": 9,
   "metadata": {},
   "outputs": [],
   "source": [
    "import numpy as np\n",
    "import os\n",
    "\n",
    "def true_t2obs_t(true_t, x, W_I, W_C):\n",
    "\n",
    "    obs_t = true_t + (W_C*x[:,10:]**2).mean(axis=1,keepdims = True) + (W_I*x[:,:5]).mean(axis=1,keepdims = True)\n",
    "\n",
    "    for i in range(true_t.shape[1]):\n",
    "        obs_t[:, i] += 0.5*(true_t[:, i])**3 * ((x[:, x.shape[1] - i - 1]))\n",
    "\n",
    "    return obs_t\n",
    "\n",
    "def obs_t2y(obs_t, x, W_T):\n",
    "\n",
    "    # nonlinear\n",
    "    y = np.zeros((x.shape[0], 1))\n",
    "    y[:, 0] += 0.5*np.abs(W_T*obs_t).sum(axis=1)\n",
    "\n",
    "    return y\n",
    "\n",
    "def x2y(t,x,W_C,W_A):\n",
    "    # nonlinear\n",
    "    y = 0.5*(W_A*x[:,5:10]**2).sum(axis=1,keepdims=True) + 1.0*(W_C*x[:,10:]).sum(axis=1,keepdims=True) \n",
    "    return y\n",
    "\n",
    "def tx2y(obs_t, x,W_C,W_A,W_T):\n",
    "    y = obs_t2y(obs_t, x,W_T)+ x2y(obs_t,x,W_C,W_A)\n",
    "    for i in range(obs_t.shape[1]):\n",
    "        y[:,0] += 0.5*(obs_t[:, i]) * ((x[:, x.shape[1] - i - 10]))\n",
    "\n",
    "\n",
    "    return y\n",
    "\n",
    "def simulate_train(n_samples, W_I, W_C, W_A, W_T, x_dim, t_dim):\n",
    "    # setup_seed(0)\n",
    "    # 确认x的分布\n",
    "    x = np.random.normal(0.0, 1.0, (n_samples,x_dim))\n",
    "\n",
    "    true_t = np.random.normal(0.0,1.0, (n_samples, t_dim))\n",
    "\n",
    "    y = np.random.normal(0.0,1.0, (n_samples, 1))\n",
    "\n",
    "    observed_t = true_t2obs_t(true_t, x, W_I,W_C)\n",
    "    # print(observed_t.shape)\n",
    "    y =  tx2y(observed_t, x, W_C,W_A,W_T) + y\n",
    "    return observed_t, x, y\n",
    "\n",
    "def simulate_test(test_samples, test_t_nums, x_dim, t_dim,  W_I, W_C, W_A, W_T):\n",
    "    x = np.random.normal(0.0, 1.0, (test_samples,x_dim))\n",
    "\n",
    "    test_true_ts = np.linspace(0.0,1.0,test_t_nums).reshape(1,-1,1).repeat(test_samples,0).repeat(t_dim,2)\n",
    "    observed_ts = np.zeros((test_samples*test_t_nums,t_dim))\n",
    "    xs = np.zeros((test_samples*test_t_nums, x_dim))\n",
    "    ys = np.zeros((test_samples*test_t_nums,1))\n",
    "    for i in range(test_t_nums):\n",
    "        observed_ts[test_samples*i:test_samples*(i+1)] = test_true_ts[:, i,:]\n",
    "        xs[test_samples*i:test_samples*(i+1),:] = x\n",
    "        ys[test_samples*i:test_samples*(i+1),:] =  tx2y(test_true_ts[:, i,:], x,W_C,W_A, W_T)\n",
    "\n",
    "    return observed_ts,xs,ys"
   ]
  },
  {
   "cell_type": "code",
   "execution_count": 12,
   "metadata": {},
   "outputs": [],
   "source": [
    "x_dim = 20\n",
    "t_dim = 1\n",
    "save_path = '/home/zmq/Code/CRNet-kdd/data/simulation/'+str(t_dim)+'t_'+str(x_dim)+'x'\n",
    "if not os.path.exists(save_path):\n",
    "    os.makedirs(save_path)\n",
    "for seed in range(30):\n",
    "    np.random.seed(seed)\n",
    "    n_samples = 3000\n",
    "    n_train = 2100\n",
    "    n_test = 300\n",
    "\n",
    "    W_I = np.random.uniform(0.5, 1.0, (1, 5))\n",
    "    W_A = np.random.uniform(0.5, 1.0, (1, 5))\n",
    "    W_C = np.random.uniform(0.5, 1.0, (1, x_dim-10))\n",
    "    W_T = np.random.uniform(0.5, 1.0, (1, t_dim))\n",
    "    t,x,y = simulate_train(n_train, W_I, W_C,W_A, W_T, x_dim, t_dim)\n",
    "    \n",
    "    data = np.concatenate((t,x, y.reshape(-1,1)),1)\n",
    "    np.save(os.path.join(save_path, str(t_dim)+'t_'+str(x_dim)+'x_1y_'+str(n_samples)+'n_'+str(seed)+'seed.npy'), data)\n",
    "\n",
    "    ts,xs,ys = simulate_test(30, 10, x_dim, t_dim, W_I, W_C, W_A,W_T)\n",
    "    test_data = np.concatenate((ts,xs,ys), axis=1)\n",
    "    np.save(os.path.join(save_path, str(t_dim)+'t_'+str(x_dim)+'x_1y_'+str(n_samples)+'n_'+str(seed)+'seed_test.npy'), test_data)\n"
   ]
  },
  {
   "cell_type": "code",
   "execution_count": 7,
   "metadata": {},
   "outputs": [
    {
     "data": {
      "text/plain": [
       "(array([ 12.,  51., 163., 688., 871., 222.,  59.,  24.,   8.,   2.]),\n",
       " array([-4.30158256, -2.89546395, -1.48934534, -0.08322673,  1.32289188,\n",
       "         2.72901049,  4.1351291 ,  5.54124771,  6.94736632,  8.35348493,\n",
       "         9.75960354]),\n",
       " <BarContainer object of 10 artists>)"
      ]
     },
     "execution_count": 7,
     "metadata": {},
     "output_type": "execute_result"
    },
    {
     "data": {
      "image/png": "[encoded data removed]",
      "text/plain": [
       "<Figure size 640x480 with 1 Axes>"
      ]
     },
     "metadata": {},
     "output_type": "display_data"
    }
   ],
   "source": [
    "import matplotlib.pyplot as plt\n",
    "\n",
    "plt.hist(t[:,0])"
   ]
  },
  {
   "cell_type": "code",
   "execution_count": 10,
   "metadata": {},
   "outputs": [
    {
     "data": {
      "text/plain": [
       "(array([ 15.,  76., 256., 506., 579., 437., 180.,  40.,   6.,   5.]),\n",
       " array([-23.79400652, -17.41160231, -11.02919809,  -4.64679387,\n",
       "          1.73561034,   8.11801456,  14.50041877,  20.88282299,\n",
       "         27.26522721,  33.64763142,  40.03003564]),\n",
       " <BarContainer object of 10 artists>)"
      ]
     },
     "execution_count": 10,
     "metadata": {},
     "output_type": "execute_result"
    },
    {
     "data": {
      "image/png": "[encoded data removed]",
      "text/plain": [
       "<Figure size 640x480 with 1 Axes>"
      ]
     },
     "metadata": {},
     "output_type": "display_data"
    }
   ],
   "source": [
    "plt.hist(y[:,0])"
   ]
  },
  {
   "cell_type": "code",
   "execution_count": null,
   "metadata": {},
   "outputs": [],
   "source": [
    "x_dim = 100\n",
    "t_dim = 10\n",
    "save_path = '/home/zmq/Code/CRNet-kdd/data/simulation_adrf/'+str(t_dim)+'t_'+str(x_dim)+'x'\n",
    "\n",
    "def simulate_test(test_samples, x_dim, t_dim,  W_I, W_C, W_A, W_T):\n",
    "    x = np.random.normal(0.0, 1.0, (test_samples,x_dim))\n",
    "\n",
    "    test_true_ts = np.linspace(0.0,1.0,test_t_nums).reshape(1,-1,1).repeat(test_samples,0).repeat(t_dim,2)\n",
    "    observed_ts = np.zeros((test_samples*test_t_nums,t_dim))\n",
    "    xs = np.zeros((test_samples*test_t_nums, x_dim))\n",
    "    ys = np.zeros((test_samples*test_t_nums,1))\n",
    "    for i in range(test_t_nums):\n",
    "        observed_ts[test_samples*i:test_samples*(i+1)] = test_true_ts[:, i,:]\n",
    "        xs[test_samples*i:test_samples*(i+1),:] = x\n",
    "        ys[test_samples*i:test_samples*(i+1),:] =  tx2y(test_true_ts[:, i,:], x,W_C,W_A, W_T)\n",
    "\n",
    "    return observed_ts,xs,ys\n",
    "\n",
    "if not os.path.exists(save_path):\n",
    "    os.makedirs(save_path)\n",
    "for seed in range(30):\n",
    "    np.random.seed(seed)\n",
    "    n_samples = 3000\n",
    "    n_train = 2100\n",
    "    n_test = 300\n",
    "\n",
    "    W_I = np.random.uniform(0.5, 1.0, (1, 5))\n",
    "    W_A = np.random.uniform(0.5, 1.0, (1, 5))\n",
    "    W_C = np.random.uniform(0.5, 1.0, (1, x_dim-10))\n",
    "    W_T = np.random.uniform(0.5, 1.0, (1, t_dim))\n",
    "    t,x,y = simulate_train(n_train, W_I, W_C,W_A, W_T, x_dim, t_dim)\n",
    "    \n",
    "    data = np.concatenate((t,x, y.reshape(-1,1)),1)\n",
    "    np.save(os.path.join(save_path, str(t_dim)+'t_'+str(x_dim)+'x_1y_'+str(n_samples)+'n_'+str(seed)+'seed.npy'), data)\n",
    "\n",
    "    ts,xs,ys = simulate_adrf(30, 10, x_dim, t_dim, W_I, W_C, W_A,W_T)\n",
    "    test_data = np.concatenate((ts,xs,ys), axis=1)\n",
    "    np.save(os.path.join(save_path, str(t_dim)+'t_'+str(x_dim)+'x_1y_'+str(n_samples)+'n_'+str(seed)+'seed_test.npy'), test_data)\n"
   ]
  }
 ],
 "metadata": {
  "kernelspec": {
   "display_name": "eps2",
   "language": "python",
   "name": "python3"
  },
  "language_info": {
   "codemirror_mode": {
    "name": "ipython",
    "version": 3
   },
   "file_extension": ".py",
   "mimetype": "text/x-python",
   "name": "python",
   "nbconvert_exporter": "python",
   "pygments_lexer": "ipython3",
   "version": "3.8.13"
  },
  "orig_nbformat": 4
 },
 "nbformat": 4,
 "nbformat_minor": 2
}
